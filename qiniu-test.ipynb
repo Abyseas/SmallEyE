{
 "cells": [
  {
   "cell_type": "code",
   "execution_count": 1,
   "metadata": {
    "collapsed": true,
    "ExecuteTime": {
     "start_time": "2023-10-31T21:24:09.552498Z",
     "end_time": "2023-10-31T21:24:10.057754Z"
    }
   },
   "outputs": [],
   "source": [
    "import qiniu\n",
    "import time\n",
    "import requests"
   ]
  },
  {
   "cell_type": "markdown",
   "source": [
    "初始化，获取签名授权"
   ],
   "metadata": {
    "collapsed": false
   }
  },
  {
   "cell_type": "code",
   "execution_count": 2,
   "outputs": [],
   "source": [
    "access_key = \"x34GCNDuYpCFsNtqkrri3Eagr6OANYyboWRZtWQv\"\n",
    "secret_key = \"f_lfzdkBoEfOa_7a_0yrMOcIdfr-cHv9H463B5Xh\"\n",
    "# access_key = \"MUpLpPtmVeiP7UWWteuSRBm5cHNeqSMndp4zh339\"\n",
    "# secret_key = \"0ix4DVQZvPdlQNDIn0qTudaBj8h27FK9qWThMd5L\"\n",
    "\n",
    "# 构建鉴权对象\n",
    "q = qiniu.Auth(access_key, secret_key)"
   ],
   "metadata": {
    "collapsed": false,
    "ExecuteTime": {
     "start_time": "2023-10-31T21:24:10.057754Z",
     "end_time": "2023-10-31T21:24:10.073370Z"
    }
   }
  },
  {
   "cell_type": "markdown",
   "source": [
    "数据或文件上传"
   ],
   "metadata": {
    "collapsed": false
   }
  },
  {
   "cell_type": "code",
   "execution_count": 7,
   "outputs": [
    {
     "name": "stdout",
     "output_type": "stream",
     "text": [
      "All is OK {'hash': 'FkwkxLPsVhf1C3FK7EsSVprQLktO', 'key': 'user2/pupy dog here.mp4'}\n"
     ]
    }
   ],
   "source": [
    "# data upload\n",
    "# key = 'pupy dog here.mp4'\n",
    "# data = 'hello qiniu!'\n",
    "# token = q.upload_token(\"yy-short-video\")\n",
    "# ret, info = qiniu.put_data(token, key, data)\n",
    "\n",
    "# file upload\n",
    "token = q.upload_token(\"yy-short-video\")\n",
    "key = 'user2/pupy dog here.mp4'\n",
    "file_path = './data/upload/1185308075.mp4'\n",
    "ret, info = qiniu.put_file(token, key, file_path, metadata=dict(name=\"tiantian\"))\n",
    "if ret is not None:\n",
    "    print('All is OK', ret)\n",
    "else:\n",
    "    print(info)"
   ],
   "metadata": {
    "collapsed": false,
    "ExecuteTime": {
     "start_time": "2023-10-31T16:12:50.876694Z",
     "end_time": "2023-10-31T16:12:56.836419Z"
    }
   }
  },
  {
   "cell_type": "markdown",
   "source": [
    "资源管理"
   ],
   "metadata": {
    "collapsed": false
   }
  },
  {
   "cell_type": "code",
   "execution_count": 33,
   "outputs": [
    {
     "data": {
      "text/plain": "_ResponseInfo__response:<Response [200]>, exception:None, status_code:200, text_body:, req_id:A5UAAADdLNV9OJMX, x_log:-"
     },
     "execution_count": 33,
     "metadata": {},
     "output_type": "execute_result"
    }
   ],
   "source": [
    "# 初始化 BucketManager 空间管理类\n",
    "bucket = qiniu.BucketManager(q)\n",
    "\n",
    "# 指定测试空间与文件名\n",
    "bucket_name = \"yy-short-video\"\n",
    "key = \"user@1/video/5847849856.mp4\"\n",
    "\n",
    "ret, info = bucket.stat(bucket_name, key)\n",
    "# ret, info = bucket.delete(bucket_name, key)\n",
    "info"
   ],
   "metadata": {
    "collapsed": false,
    "ExecuteTime": {
     "start_time": "2023-10-31T22:46:37.499136Z",
     "end_time": "2023-10-31T22:46:37.580114Z"
    }
   }
  },
  {
   "cell_type": "code",
   "execution_count": 90,
   "outputs": [
    {
     "name": "stdout",
     "output_type": "stream",
     "text": [
      "[{'key': 'pdg.mp4', 'hash': 'FkwkxLPsVhf1C3FK7EsSVprQLktO', 'fsize': 1929256, 'mimeType': 'video/mp4', 'putTime': 16985474640459057, 'type': 0, 'status': 0, 'md5': '1954158dfcc00fa37bca49bbda9cfc2a', 'x-qn-meta': {'hhh': '123', 'nihao': 'aaa'}}]\n"
     ]
    }
   ],
   "source": [
    "prefix = None\n",
    "# 列举条目\n",
    "limit = 1\n",
    "# 列举出除'/'的所有文件以及以'/'为分隔的所有前缀\n",
    "delimiter = None\n",
    "# 标记\n",
    "marker = None\n",
    "ret, eof, info = bucket.list(bucket_name, prefix, marker, limit, delimiter)\n",
    "print(ret.get('items'))"
   ],
   "metadata": {
    "collapsed": false,
    "ExecuteTime": {
     "start_time": "2023-10-29T17:56:14.955949Z",
     "end_time": "2023-10-29T17:56:15.020519Z"
    }
   }
  },
  {
   "cell_type": "code",
   "execution_count": 106,
   "outputs": [
    {
     "data": {
      "text/plain": "'2023/10/29 10:44:24'"
     },
     "execution_count": 106,
     "metadata": {},
     "output_type": "execute_result"
    }
   ],
   "source": [
    "bucket_domains = bucket.list_domains(bucket_name)\n",
    "print(q.private_download_url(f\"http://{bucket_domains[0][0]}/pdg.mp4\"))\n",
    "unix_time = ret.get('items')[0].get('putTime') // (10**7)\n",
    "time.strftime(\"%Y/%m/%d %H:%M:%S\", time.localtime(unix_time))"
   ],
   "metadata": {
    "collapsed": false,
    "ExecuteTime": {
     "start_time": "2023-10-29T18:11:33.353337Z",
     "end_time": "2023-10-29T18:11:33.384174Z"
    }
   }
  },
  {
   "cell_type": "markdown",
   "source": [
    "资源处理"
   ],
   "metadata": {
    "collapsed": false
   }
  },
  {
   "cell_type": "code",
   "execution_count": 12,
   "outputs": [],
   "source": [
    "# 是使用的队列名称,不设置代表不使用私有队列，使用公有队列。\n",
    "pipeline = \"small_eye\"\n",
    "\n",
    "# 要进行转码的转码操作。\n",
    "fops = \"vframe/jpg/offset/7/w/480/h/360\"\n",
    "\n",
    "saveas_key = qiniu.urlsafe_base64_encode(f\"{bucket_name}:{key.split('.')[0]}_frame7.jpg\")\n",
    "fops = fops+\"|saveas/\"+saveas_key\n",
    "\n",
    "pfop = qiniu.PersistentFop(q, bucket_name, pipeline)\n",
    "ops = [fops]\n",
    "ret, info = pfop.execute(key, ops, 1)"
   ],
   "metadata": {
    "collapsed": false,
    "ExecuteTime": {
     "start_time": "2023-10-26T17:45:19.645267Z",
     "end_time": "2023-10-26T17:45:22.426489Z"
    }
   }
  },
  {
   "cell_type": "code",
   "execution_count": 13,
   "outputs": [
    {
     "data": {
      "text/plain": "{'persistentId': 'cn-east-2.01c201cwi9wdvuim3c00mvdajq000akz'}"
     },
     "execution_count": 13,
     "metadata": {},
     "output_type": "execute_result"
    }
   ],
   "source": [
    "ret"
   ],
   "metadata": {
    "collapsed": false,
    "ExecuteTime": {
     "start_time": "2023-10-26T17:45:26.057683Z",
     "end_time": "2023-10-26T17:45:26.073252Z"
    }
   }
  },
  {
   "cell_type": "code",
   "execution_count": 4,
   "outputs": [
    {
     "data": {
      "text/plain": "{'username': 'y',\n 'user_id': '1',\n 'title': '狗狗真可爱',\n 'submit_time': '12:11',\n 'midea_type': 'video'}"
     },
     "execution_count": 4,
     "metadata": {},
     "output_type": "execute_result"
    }
   ],
   "source": [
    "url = \"http://s31euirdk.bkt.clouddn.com/user%401/manifest/video/5847849856.mp4.json?e=1698758918&token=x34GCNDuYpCFsNtqkrri3Eagr6OANYyboWRZtWQv:_qNIXyubHGVZO_CHyqwkDzf43Yg=\"\n",
    "data = requests.get(url).json()\n",
    "data"
   ],
   "metadata": {
    "collapsed": false,
    "ExecuteTime": {
     "start_time": "2023-10-31T21:25:01.393843Z",
     "end_time": "2023-10-31T21:25:01.472380Z"
    }
   }
  }
 ],
 "metadata": {
  "kernelspec": {
   "display_name": "Python 3",
   "language": "python",
   "name": "python3"
  },
  "language_info": {
   "codemirror_mode": {
    "name": "ipython",
    "version": 2
   },
   "file_extension": ".py",
   "mimetype": "text/x-python",
   "name": "python",
   "nbconvert_exporter": "python",
   "pygments_lexer": "ipython2",
   "version": "2.7.6"
  }
 },
 "nbformat": 4,
 "nbformat_minor": 0
}
