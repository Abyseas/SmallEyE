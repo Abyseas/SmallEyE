{
 "cells": [
  {
   "cell_type": "code",
   "execution_count": 1,
   "metadata": {
    "collapsed": true,
    "ExecuteTime": {
     "start_time": "2023-10-26T23:00:18.982461Z",
     "end_time": "2023-10-26T23:00:19.143461Z"
    }
   },
   "outputs": [],
   "source": [
    "import qiniu"
   ]
  },
  {
   "cell_type": "markdown",
   "source": [
    "初始化，获取签名授权"
   ],
   "metadata": {
    "collapsed": false
   }
  },
  {
   "cell_type": "code",
   "execution_count": 2,
   "outputs": [],
   "source": [
    "access_key = \"x34GCNDuYpCFsNtqkrri3Eagr6OANYyboWRZtWQv\"\n",
    "secret_key = \"f_lfzdkBoEfOa_7a_0yrMOcIdfr-cHv9H463B5Xh\"\n",
    "# access_key = \"MUpLpPtmVeiP7UWWteuSRBm5cHNeqSMndp4zh339\"\n",
    "# secret_key = \"0ix4DVQZvPdlQNDIn0qTudaBj8h27FK9qWThMd5L\"\n",
    "\n",
    "# 构建鉴权对象\n",
    "q = qiniu.Auth(access_key, secret_key)"
   ],
   "metadata": {
    "collapsed": false,
    "ExecuteTime": {
     "start_time": "2023-10-26T23:00:19.143461Z",
     "end_time": "2023-10-26T23:00:19.159035Z"
    }
   }
  },
  {
   "cell_type": "markdown",
   "source": [
    "数据或文件上传"
   ],
   "metadata": {
    "collapsed": false
   }
  },
  {
   "cell_type": "code",
   "execution_count": 11,
   "outputs": [
    {
     "name": "stdout",
     "output_type": "stream",
     "text": [
      "All is OK {'hash': 'FkwkxLPsVhf1C3FK7EsSVprQLktO', 'key': 'pupy dog here.mp4'}\n"
     ]
    }
   ],
   "source": [
    "# data upload\n",
    "# key = 'pupy dog here.mp4'\n",
    "# data = 'hello qiniu!'\n",
    "# token = q.upload_token(\"yy-short-video\")\n",
    "# ret, info = qiniu.put_data(token, key, data)\n",
    "\n",
    "# file upload\n",
    "token = q.upload_token(\"yy-short-video\")\n",
    "key = 'pupy dog here.mp4'\n",
    "file_path = './1185308075.mp4'\n",
    "ret, info = qiniu.put_file(token, key, file_path, metadata={\"name\": \"xx\"})\n",
    "if ret is not None:\n",
    "    print('All is OK', ret)\n",
    "else:\n",
    "    print(info)"
   ],
   "metadata": {
    "collapsed": false,
    "ExecuteTime": {
     "start_time": "2023-10-26T17:43:41.031523Z",
     "end_time": "2023-10-26T17:43:47.772844Z"
    }
   }
  },
  {
   "cell_type": "markdown",
   "source": [
    "资源管理"
   ],
   "metadata": {
    "collapsed": false
   }
  },
  {
   "cell_type": "code",
   "execution_count": 3,
   "outputs": [],
   "source": [
    "# 初始化 BucketManager 空间管理类\n",
    "bucket = qiniu.BucketManager(q)\n",
    "\n",
    "# 指定测试空间与文件名\n",
    "bucket_name = \"yy-short-video\"\n",
    "key = \"pupy dog here.mp4\"\n",
    "\n",
    "ret, info = bucket.stat(bucket_name, key)"
   ],
   "metadata": {
    "collapsed": false,
    "ExecuteTime": {
     "start_time": "2023-10-26T23:00:50.750145Z",
     "end_time": "2023-10-26T23:00:50.881526Z"
    }
   }
  },
  {
   "cell_type": "code",
   "execution_count": 9,
   "outputs": [
    {
     "name": "stdout",
     "output_type": "stream",
     "text": [
      "_ResponseInfo__response:<Response [200]>, exception:None, status_code:200, text_body:{\"marker\":\"eyJjIjowLCJrIjoicHVweSBkb2cgaGVyZS5tcDQifQ==\",\"items\":[{\"key\":\"pupy dog here.mp4\",\"hash\":\"FkwkxLPsVhf1C3FK7EsSVprQLktO\",\"fsize\":1929256,\"mimeType\":\"video/mp4\",\"putTime\":16983134286283495,\"type\":0,\"status\":0,\"md5\":\"1954158dfcc00fa37bca49bbda9cfc2a\"}]}, req_id:MbYAAADfqIYgspEX, MbYAAADfqIYgspEX.peer, x_log:redis.g;redis.g;redis.g;RsDbClusterID:id_hash;v4mget;dirCount:0 itemCount:1 fdelCount:0;rs5_shard_hash.ls:3;RSF:4;RSF:7\n"
     ]
    }
   ],
   "source": [
    "prefix = None\n",
    "# 列举条目\n",
    "limit = 1\n",
    "# 列举出除'/'的所有文件以及以'/'为分隔的所有前缀\n",
    "delimiter = None\n",
    "# 标记\n",
    "marker = None\n",
    "ret, eof, info = bucket.list(bucket_name, prefix, marker, limit, delimiter)\n",
    "print(info)"
   ],
   "metadata": {
    "collapsed": false,
    "ExecuteTime": {
     "start_time": "2023-10-26T23:33:05.435476Z",
     "end_time": "2023-10-26T23:33:05.589067Z"
    }
   }
  },
  {
   "cell_type": "code",
   "execution_count": 8,
   "outputs": [
    {
     "data": {
      "text/plain": "'redis.g;redis.g;redis.g;RsDbClusterID:id_hash;v4mget;dirCount:0 itemCount:2 fdelCount:0;rs5_shard_hash.ls:3;RSF:4;RSF:7'"
     },
     "execution_count": 8,
     "metadata": {},
     "output_type": "execute_result"
    }
   ],
   "source": [
    "info.x_log"
   ],
   "metadata": {
    "collapsed": false,
    "ExecuteTime": {
     "start_time": "2023-10-26T23:30:32.448704Z",
     "end_time": "2023-10-26T23:30:32.480164Z"
    }
   }
  },
  {
   "cell_type": "markdown",
   "source": [
    "资源处理"
   ],
   "metadata": {
    "collapsed": false
   }
  },
  {
   "cell_type": "code",
   "execution_count": 12,
   "outputs": [],
   "source": [
    "# 是使用的队列名称,不设置代表不使用私有队列，使用公有队列。\n",
    "pipeline = \"small_eye\"\n",
    "\n",
    "# 要进行转码的转码操作。\n",
    "fops = \"vframe/jpg/offset/7/w/480/h/360\"\n",
    "\n",
    "saveas_key = qiniu.urlsafe_base64_encode(f\"{bucket_name}:{key.split('.')[0]}_frame7.jpg\")\n",
    "fops = fops+\"|saveas/\"+saveas_key\n",
    "\n",
    "pfop = qiniu.PersistentFop(q, bucket_name, pipeline)\n",
    "ops = [fops]\n",
    "ret, info = pfop.execute(key, ops, 1)"
   ],
   "metadata": {
    "collapsed": false,
    "ExecuteTime": {
     "start_time": "2023-10-26T17:45:19.645267Z",
     "end_time": "2023-10-26T17:45:22.426489Z"
    }
   }
  },
  {
   "cell_type": "code",
   "execution_count": 13,
   "outputs": [
    {
     "data": {
      "text/plain": "{'persistentId': 'cn-east-2.01c201cwi9wdvuim3c00mvdajq000akz'}"
     },
     "execution_count": 13,
     "metadata": {},
     "output_type": "execute_result"
    }
   ],
   "source": [
    "ret"
   ],
   "metadata": {
    "collapsed": false,
    "ExecuteTime": {
     "start_time": "2023-10-26T17:45:26.057683Z",
     "end_time": "2023-10-26T17:45:26.073252Z"
    }
   }
  }
 ],
 "metadata": {
  "kernelspec": {
   "display_name": "Python 3",
   "language": "python",
   "name": "python3"
  },
  "language_info": {
   "codemirror_mode": {
    "name": "ipython",
    "version": 2
   },
   "file_extension": ".py",
   "mimetype": "text/x-python",
   "name": "python",
   "nbconvert_exporter": "python",
   "pygments_lexer": "ipython2",
   "version": "2.7.6"
  }
 },
 "nbformat": 4,
 "nbformat_minor": 0
}
